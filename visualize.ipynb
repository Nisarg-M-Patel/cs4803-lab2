{
 "cells": [
  {
   "cell_type": "markdown",
   "metadata": {},
   "source": [
    "# Visualization helper functions\n",
    "\n",
    "This file can help you visualize the order in which your batches are processed."
   ]
  },
  {
   "cell_type": "code",
   "execution_count": 2,
   "metadata": {},
   "outputs": [],
   "source": [
    "import asyncio\n",
    "\n",
    "from lib import Model, Dist\n",
    "from utils import write_chrome_trace, get_training_stats, get_model_theoretical_best_time\n",
    "\n",
    "from part1 import part1_training_loop # Change the training call to visualize the training process"
   ]
  },
  {
   "cell_type": "code",
   "execution_count": 3,
   "metadata": {},
   "outputs": [],
   "source": [
    "# Copy paste the main function from respective part of your code here.\n",
    "async def main():\n",
    "    world_size = 32\n",
    "    num_layers = 64\n",
    "    global_batch_size = 256\n",
    "    batch_size = 8\n",
    "\n",
    "    dist = Dist(world_size)\n",
    "    models: List[Model] = [\n",
    "        Model(rank, dist, num_layers, global_batch_size) for rank in range(world_size)\n",
    "    ]\n",
    "\n",
    "    theoretical_time = get_model_theoretical_best_time(models[0])\n",
    "\n",
    "    out = await asyncio.gather(\n",
    "        *(part1_training_loop(model, batch_size) for model in models)\n",
    "    )\n",
    "\n",
    "    execution_time, max_memory, max_memory_idx = get_training_stats(out)\n",
    "\n",
    "    mfu = (theoretical_time / execution_time) * 100\n",
    "\n",
    "    print(f\"MFU: {mfu}\")\n",
    "\n",
    "    write_chrome_trace(out, \"./debug_traces/part1.json\")"
   ]
  },
  {
   "cell_type": "code",
   "execution_count": 4,
   "metadata": {},
   "outputs": [
    {
     "name": "stdout",
     "output_type": "stream",
     "text": [
      "Execution time: 0.18436232169217012 \n",
      "Maximum Memory: 2297954304.0 at GPU: 0 time: 0.06849864747465671\n",
      "MFU: 19.084361579899916\n"
     ]
    }
   ],
   "source": [
    "trained_model = await main()"
   ]
  },
  {
   "cell_type": "code",
   "execution_count": 5,
   "metadata": {},
   "outputs": [
    {
     "ename": "TypeError",
     "evalue": "'NoneType' object is not subscriptable",
     "output_type": "error",
     "traceback": [
      "\u001b[0;31m---------------------------------------------------------------------------\u001b[0m",
      "\u001b[0;31mTypeError\u001b[0m                                 Traceback (most recent call last)",
      "Cell \u001b[0;32mIn[5], line 1\u001b[0m\n\u001b[0;32m----> 1\u001b[0m \u001b[43mget_training_stats\u001b[49m\u001b[43m(\u001b[49m\u001b[43mtrained_model\u001b[49m\u001b[43m)\u001b[49m\n\u001b[1;32m      2\u001b[0m \u001b[38;5;66;03m# Navigate to chrome://tracing and load the generated json file to visualize the training process\u001b[39;00m\n\u001b[1;32m      3\u001b[0m write_chrome_trace(trained_model, \u001b[38;5;124m'\u001b[39m\u001b[38;5;124m./debug_traces/test.json\u001b[39m\u001b[38;5;124m'\u001b[39m)\n",
      "File \u001b[0;32m~/Documents/fall2025/cs4803/lab2/utils.py:40\u001b[0m, in \u001b[0;36mget_training_stats\u001b[0;34m(models)\u001b[0m\n\u001b[1;32m     39\u001b[0m \u001b[38;5;28;01mdef\u001b[39;00m \u001b[38;5;21mget_training_stats\u001b[39m(models: Sequence[Model]) \u001b[38;5;241m-\u001b[39m\u001b[38;5;241m>\u001b[39m Tuple[\u001b[38;5;28mint\u001b[39m, \u001b[38;5;28mint\u001b[39m, \u001b[38;5;28mint\u001b[39m]:\n\u001b[0;32m---> 40\u001b[0m     \u001b[43mcheck\u001b[49m\u001b[43m(\u001b[49m\u001b[43mmodels\u001b[49m\u001b[43m)\u001b[49m\n\u001b[1;32m     42\u001b[0m     execution_time \u001b[38;5;241m=\u001b[39m \u001b[38;5;28mmax\u001b[39m(m\u001b[38;5;241m.\u001b[39mlog[\u001b[38;5;241m-\u001b[39m\u001b[38;5;241m1\u001b[39m]\u001b[38;5;241m.\u001b[39mtime \u001b[38;5;28;01mfor\u001b[39;00m m \u001b[38;5;129;01min\u001b[39;00m models)\n\u001b[1;32m     43\u001b[0m     max_memory \u001b[38;5;241m=\u001b[39m \u001b[38;5;241m0\u001b[39m\n",
      "File \u001b[0;32m~/Documents/fall2025/cs4803/lab2/utils.py:25\u001b[0m, in \u001b[0;36mcheck\u001b[0;34m(models)\u001b[0m\n\u001b[1;32m     24\u001b[0m \u001b[38;5;28;01mdef\u001b[39;00m \u001b[38;5;21mcheck\u001b[39m(models: Sequence[Model]) \u001b[38;5;241m-\u001b[39m\u001b[38;5;241m>\u001b[39m \u001b[38;5;28;01mNone\u001b[39;00m:\n\u001b[0;32m---> 25\u001b[0m     \u001b[38;5;28;01mfor\u001b[39;00m l \u001b[38;5;129;01min\u001b[39;00m \u001b[38;5;28mrange\u001b[39m(\u001b[43mmodels\u001b[49m\u001b[43m[\u001b[49m\u001b[38;5;241;43m0\u001b[39;49m\u001b[43m]\u001b[49m\u001b[38;5;241m.\u001b[39mnum_layers):\n\u001b[1;32m     26\u001b[0m         weight \u001b[38;5;241m=\u001b[39m \u001b[38;5;28;01mNone\u001b[39;00m\n\u001b[1;32m     27\u001b[0m         \u001b[38;5;28;01mfor\u001b[39;00m m \u001b[38;5;129;01min\u001b[39;00m models:\n",
      "\u001b[0;31mTypeError\u001b[0m: 'NoneType' object is not subscriptable"
     ]
    }
   ],
   "source": [
    "get_training_stats(trained_model)\n",
    "# Navigate to chrome://tracing and load the generated json file to visualize the training process\n",
    "write_chrome_trace(trained_model, './debug_traces/test.json')"
   ]
  },
  {
   "cell_type": "code",
   "execution_count": null,
   "metadata": {},
   "outputs": [],
   "source": []
  },
  {
   "cell_type": "code",
   "execution_count": null,
   "metadata": {},
   "outputs": [],
   "source": []
  }
 ],
 "metadata": {
  "kernelspec": {
   "display_name": "lab2_env",
   "language": "python",
   "name": "python3"
  },
  "language_info": {
   "codemirror_mode": {
    "name": "ipython",
    "version": 3
   },
   "file_extension": ".py",
   "mimetype": "text/x-python",
   "name": "python",
   "nbconvert_exporter": "python",
   "pygments_lexer": "ipython3",
   "version": "3.8.20"
  }
 },
 "nbformat": 4,
 "nbformat_minor": 2
}
