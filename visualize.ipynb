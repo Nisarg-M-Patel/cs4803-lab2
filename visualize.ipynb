{
 "cells": [
  {
   "cell_type": "markdown",
   "metadata": {},
   "source": [
    "# Visualization helper functions\n",
    "\n",
    "This file can help you visualize the order in which your batches are processed."
   ]
  },
  {
   "cell_type": "code",
   "execution_count": 1,
   "metadata": {},
   "outputs": [],
   "source": [
    "import asyncio\n",
    "\n",
    "from lib import Model, Dist\n",
    "from utils import write_chrome_trace, get_training_stats\n",
    "\n",
    "from part0 import train_ddp # Change the training call to visualize the training process"
   ]
  },
  {
   "cell_type": "code",
   "execution_count": 2,
   "metadata": {},
   "outputs": [],
   "source": [
    "# Copy paste the main function from respective part of your code here.\n",
    "async def main():\n",
    "    world_size = 8\n",
    "    num_layers = 36\n",
    "    global_batch_size = 32\n",
    "    batch_size = 4\n",
    "\n",
    "    dist = Dist(world_size)\n",
    "    out = await asyncio.gather(*[\n",
    "        train_ddp(Model(num_layers=num_layers, global_batch_size=global_batch_size, rank=i, dist=dist), batch_size) # Change the training call to visualize the training process\n",
    "        for i in range(world_size)])\n",
    "\n",
    "    return out"
   ]
  },
  {
   "cell_type": "code",
   "execution_count": 3,
   "metadata": {},
   "outputs": [],
   "source": [
    "trained_model = await main()"
   ]
  },
  {
   "cell_type": "code",
   "execution_count": 4,
   "metadata": {},
   "outputs": [
    {
     "name": "stdout",
     "output_type": "stream",
     "text": [
      "Execution time: 0.01967935151316352 \n",
      "Maximum Memory: 1845493760.0 at GPU: 0 time: 0.008190829151453579\n"
     ]
    }
   ],
   "source": [
    "get_training_stats(trained_model)\n",
    "# Navigate to chrome://tracing and load the generated json file to visualize the training process\n",
    "write_chrome_trace(trained_model, './debug_traces/test.json')"
   ]
  },
  {
   "cell_type": "code",
   "execution_count": null,
   "metadata": {},
   "outputs": [],
   "source": []
  },
  {
   "cell_type": "code",
   "execution_count": null,
   "metadata": {},
   "outputs": [],
   "source": []
  }
 ],
 "metadata": {
  "kernelspec": {
   "display_name": "sys_ml_lab2",
   "language": "python",
   "name": "python3"
  },
  "language_info": {
   "codemirror_mode": {
    "name": "ipython",
    "version": 3
   },
   "file_extension": ".py",
   "mimetype": "text/x-python",
   "name": "python",
   "nbconvert_exporter": "python",
   "pygments_lexer": "ipython3",
   "version": "3.10.13"
  }
 },
 "nbformat": 4,
 "nbformat_minor": 2
}
